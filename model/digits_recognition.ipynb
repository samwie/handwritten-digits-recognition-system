{
 "cells": [
  {
   "cell_type": "code",
   "execution_count": 78,
   "id": "ea2c2fd0",
   "metadata": {},
   "outputs": [],
   "source": [
    "from sklearn.datasets import load_digits\n",
    "import matplotlib.pyplot as plt\n",
    "from sklearn.metrics import confusion_matrix, classification_report\n",
    "from sklearn.metrics import accuracy_score\n",
    "from sklearn.model_selection import train_test_split"
   ]
  },
  {
   "cell_type": "code",
   "execution_count": 15,
   "id": "a2cb82c7",
   "metadata": {},
   "outputs": [],
   "source": [
    "digits = load_digits()"
   ]
  },
  {
   "cell_type": "code",
   "execution_count": 38,
   "id": "3122b3ca",
   "metadata": {},
   "outputs": [],
   "source": [
    "data = digits.images.reshape((len(digits.images), -1))"
   ]
  },
  {
   "cell_type": "code",
   "execution_count": 39,
   "id": "ae5ef17d",
   "metadata": {},
   "outputs": [],
   "source": [
    "x_train, x_test, y_train, y_test = train_test_split(data, digits.target, test_size=0.3, random_state=110)"
   ]
  },
  {
   "cell_type": "code",
   "execution_count": 64,
   "id": "fc200458",
   "metadata": {},
   "outputs": [],
   "source": [
    "from sklearn.svm import SVC\n",
    "from sklearn.model_selection import GridSearchCV\n",
    "svc = SVC()"
   ]
  },
  {
   "cell_type": "code",
   "execution_count": 65,
   "id": "46071b42",
   "metadata": {},
   "outputs": [],
   "source": [
    "param_grid = {'C':[0.1, 1, 10, 100, 1000], 'gamma':[1, 0.1, 0.001, 0.0001]}"
   ]
  },
  {
   "cell_type": "code",
   "execution_count": 73,
   "id": "76652ab4",
   "metadata": {},
   "outputs": [],
   "source": [
    "grid = GridSearchCV(SVC(), param_grid, verbose=3)"
   ]
  },
  {
   "cell_type": "code",
   "execution_count": 74,
   "id": "8e4632cb",
   "metadata": {},
   "outputs": [
    {
     "name": "stdout",
     "output_type": "stream",
     "text": [
      "Fitting 5 folds for each of 20 candidates, totalling 100 fits\n",
      "[CV 1/5] END ....................C=0.1, gamma=1;, score=0.107 total time=   0.1s\n",
      "[CV 2/5] END ....................C=0.1, gamma=1;, score=0.107 total time=   0.1s\n",
      "[CV 3/5] END ....................C=0.1, gamma=1;, score=0.112 total time=   0.1s\n",
      "[CV 4/5] END ....................C=0.1, gamma=1;, score=0.108 total time=   0.1s\n",
      "[CV 5/5] END ....................C=0.1, gamma=1;, score=0.108 total time=   0.1s\n",
      "[CV 1/5] END ..................C=0.1, gamma=0.1;, score=0.107 total time=   0.2s\n",
      "[CV 2/5] END ..................C=0.1, gamma=0.1;, score=0.107 total time=   0.2s\n",
      "[CV 3/5] END ..................C=0.1, gamma=0.1;, score=0.112 total time=   0.2s\n",
      "[CV 4/5] END ..................C=0.1, gamma=0.1;, score=0.108 total time=   0.2s\n",
      "[CV 5/5] END ..................C=0.1, gamma=0.1;, score=0.108 total time=   0.2s\n",
      "[CV 1/5] END ................C=0.1, gamma=0.001;, score=0.952 total time=   0.1s\n",
      "[CV 2/5] END ................C=0.1, gamma=0.001;, score=0.940 total time=   0.1s\n",
      "[CV 3/5] END ................C=0.1, gamma=0.001;, score=0.960 total time=   0.1s\n",
      "[CV 4/5] END ................C=0.1, gamma=0.001;, score=0.968 total time=   0.1s\n",
      "[CV 5/5] END ................C=0.1, gamma=0.001;, score=0.956 total time=   0.1s\n",
      "[CV 1/5] END ...............C=0.1, gamma=0.0001;, score=0.770 total time=   0.1s\n",
      "[CV 2/5] END ...............C=0.1, gamma=0.0001;, score=0.786 total time=   0.1s\n",
      "[CV 3/5] END ...............C=0.1, gamma=0.0001;, score=0.813 total time=   0.1s\n",
      "[CV 4/5] END ...............C=0.1, gamma=0.0001;, score=0.797 total time=   0.1s\n",
      "[CV 5/5] END ...............C=0.1, gamma=0.0001;, score=0.821 total time=   0.1s\n",
      "[CV 1/5] END ......................C=1, gamma=1;, score=0.107 total time=   0.1s\n",
      "[CV 2/5] END ......................C=1, gamma=1;, score=0.107 total time=   0.1s\n",
      "[CV 3/5] END ......................C=1, gamma=1;, score=0.112 total time=   0.1s\n",
      "[CV 4/5] END ......................C=1, gamma=1;, score=0.108 total time=   0.1s\n",
      "[CV 5/5] END ......................C=1, gamma=1;, score=0.108 total time=   0.1s\n",
      "[CV 1/5] END ....................C=1, gamma=0.1;, score=0.107 total time=   0.2s\n",
      "[CV 2/5] END ....................C=1, gamma=0.1;, score=0.107 total time=   0.2s\n",
      "[CV 3/5] END ....................C=1, gamma=0.1;, score=0.112 total time=   0.2s\n",
      "[CV 4/5] END ....................C=1, gamma=0.1;, score=0.108 total time=   0.2s\n",
      "[CV 5/5] END ....................C=1, gamma=0.1;, score=0.108 total time=   0.2s\n",
      "[CV 1/5] END ..................C=1, gamma=0.001;, score=0.984 total time=   0.1s\n",
      "[CV 2/5] END ..................C=1, gamma=0.001;, score=0.984 total time=   0.1s\n",
      "[CV 3/5] END ..................C=1, gamma=0.001;, score=0.992 total time=   0.1s\n",
      "[CV 4/5] END ..................C=1, gamma=0.001;, score=0.992 total time=   0.1s\n",
      "[CV 5/5] END ..................C=1, gamma=0.001;, score=0.984 total time=   0.1s\n",
      "[CV 1/5] END .................C=1, gamma=0.0001;, score=0.956 total time=   0.0s\n",
      "[CV 2/5] END .................C=1, gamma=0.0001;, score=0.952 total time=   0.1s\n",
      "[CV 3/5] END .................C=1, gamma=0.0001;, score=0.960 total time=   0.1s\n",
      "[CV 4/5] END .................C=1, gamma=0.0001;, score=0.964 total time=   0.1s\n",
      "[CV 5/5] END .................C=1, gamma=0.0001;, score=0.960 total time=   0.1s\n",
      "[CV 1/5] END .....................C=10, gamma=1;, score=0.107 total time=   0.2s\n",
      "[CV 2/5] END .....................C=10, gamma=1;, score=0.107 total time=   0.2s\n",
      "[CV 3/5] END .....................C=10, gamma=1;, score=0.112 total time=   0.2s\n",
      "[CV 4/5] END .....................C=10, gamma=1;, score=0.108 total time=   0.2s\n",
      "[CV 5/5] END .....................C=10, gamma=1;, score=0.108 total time=   0.2s\n",
      "[CV 1/5] END ...................C=10, gamma=0.1;, score=0.107 total time=   0.2s\n",
      "[CV 2/5] END ...................C=10, gamma=0.1;, score=0.107 total time=   0.2s\n",
      "[CV 3/5] END ...................C=10, gamma=0.1;, score=0.112 total time=   0.2s\n",
      "[CV 4/5] END ...................C=10, gamma=0.1;, score=0.108 total time=   0.2s\n",
      "[CV 5/5] END ...................C=10, gamma=0.1;, score=0.108 total time=   0.2s\n",
      "[CV 1/5] END .................C=10, gamma=0.001;, score=0.988 total time=   0.1s\n",
      "[CV 2/5] END .................C=10, gamma=0.001;, score=0.988 total time=   0.1s\n",
      "[CV 3/5] END .................C=10, gamma=0.001;, score=0.988 total time=   0.1s\n",
      "[CV 4/5] END .................C=10, gamma=0.001;, score=1.000 total time=   0.1s\n",
      "[CV 5/5] END .................C=10, gamma=0.001;, score=0.984 total time=   0.1s\n",
      "[CV 1/5] END ................C=10, gamma=0.0001;, score=0.980 total time=   0.0s\n",
      "[CV 2/5] END ................C=10, gamma=0.0001;, score=0.976 total time=   0.0s\n",
      "[CV 3/5] END ................C=10, gamma=0.0001;, score=0.980 total time=   0.0s\n",
      "[CV 4/5] END ................C=10, gamma=0.0001;, score=0.980 total time=   0.0s\n",
      "[CV 5/5] END ................C=10, gamma=0.0001;, score=0.984 total time=   0.0s\n",
      "[CV 1/5] END ....................C=100, gamma=1;, score=0.107 total time=   0.2s\n",
      "[CV 2/5] END ....................C=100, gamma=1;, score=0.107 total time=   0.1s\n",
      "[CV 3/5] END ....................C=100, gamma=1;, score=0.112 total time=   0.2s\n",
      "[CV 4/5] END ....................C=100, gamma=1;, score=0.108 total time=   0.1s\n",
      "[CV 5/5] END ....................C=100, gamma=1;, score=0.108 total time=   0.2s\n",
      "[CV 1/5] END ..................C=100, gamma=0.1;, score=0.107 total time=   0.2s\n",
      "[CV 2/5] END ..................C=100, gamma=0.1;, score=0.107 total time=   0.2s\n",
      "[CV 3/5] END ..................C=100, gamma=0.1;, score=0.112 total time=   0.2s\n",
      "[CV 4/5] END ..................C=100, gamma=0.1;, score=0.108 total time=   0.2s\n",
      "[CV 5/5] END ..................C=100, gamma=0.1;, score=0.108 total time=   0.2s\n",
      "[CV 1/5] END ................C=100, gamma=0.001;, score=0.988 total time=   0.1s\n",
      "[CV 2/5] END ................C=100, gamma=0.001;, score=0.988 total time=   0.1s\n",
      "[CV 3/5] END ................C=100, gamma=0.001;, score=0.988 total time=   0.1s\n",
      "[CV 4/5] END ................C=100, gamma=0.001;, score=1.000 total time=   0.1s\n",
      "[CV 5/5] END ................C=100, gamma=0.001;, score=0.984 total time=   0.1s\n",
      "[CV 1/5] END ...............C=100, gamma=0.0001;, score=0.976 total time=   0.0s\n",
      "[CV 2/5] END ...............C=100, gamma=0.0001;, score=0.984 total time=   0.0s\n",
      "[CV 3/5] END ...............C=100, gamma=0.0001;, score=0.984 total time=   0.0s\n",
      "[CV 4/5] END ...............C=100, gamma=0.0001;, score=0.980 total time=   0.0s\n",
      "[CV 5/5] END ...............C=100, gamma=0.0001;, score=0.984 total time=   0.0s\n",
      "[CV 1/5] END ...................C=1000, gamma=1;, score=0.107 total time=   0.2s\n",
      "[CV 2/5] END ...................C=1000, gamma=1;, score=0.107 total time=   0.1s\n",
      "[CV 3/5] END ...................C=1000, gamma=1;, score=0.112 total time=   0.2s\n",
      "[CV 4/5] END ...................C=1000, gamma=1;, score=0.108 total time=   0.1s\n",
      "[CV 5/5] END ...................C=1000, gamma=1;, score=0.108 total time=   0.1s\n",
      "[CV 1/5] END .................C=1000, gamma=0.1;, score=0.107 total time=   0.2s\n",
      "[CV 2/5] END .................C=1000, gamma=0.1;, score=0.107 total time=   0.2s\n",
      "[CV 3/5] END .................C=1000, gamma=0.1;, score=0.112 total time=   0.2s\n",
      "[CV 4/5] END .................C=1000, gamma=0.1;, score=0.108 total time=   0.2s\n",
      "[CV 5/5] END .................C=1000, gamma=0.1;, score=0.108 total time=   0.2s\n",
      "[CV 1/5] END ...............C=1000, gamma=0.001;, score=0.988 total time=   0.1s\n",
      "[CV 2/5] END ...............C=1000, gamma=0.001;, score=0.988 total time=   0.1s\n",
      "[CV 3/5] END ...............C=1000, gamma=0.001;, score=0.988 total time=   0.1s\n",
      "[CV 4/5] END ...............C=1000, gamma=0.001;, score=1.000 total time=   0.1s\n",
      "[CV 5/5] END ...............C=1000, gamma=0.001;, score=0.984 total time=   0.1s\n",
      "[CV 1/5] END ..............C=1000, gamma=0.0001;, score=0.976 total time=   0.0s\n",
      "[CV 2/5] END ..............C=1000, gamma=0.0001;, score=0.984 total time=   0.0s\n",
      "[CV 3/5] END ..............C=1000, gamma=0.0001;, score=0.984 total time=   0.0s\n",
      "[CV 4/5] END ..............C=1000, gamma=0.0001;, score=0.980 total time=   0.0s\n",
      "[CV 5/5] END ..............C=1000, gamma=0.0001;, score=0.984 total time=   0.0s\n"
     ]
    },
    {
     "data": {
      "text/html": [
       "<style>#sk-container-id-2 {color: black;background-color: white;}#sk-container-id-2 pre{padding: 0;}#sk-container-id-2 div.sk-toggleable {background-color: white;}#sk-container-id-2 label.sk-toggleable__label {cursor: pointer;display: block;width: 100%;margin-bottom: 0;padding: 0.3em;box-sizing: border-box;text-align: center;}#sk-container-id-2 label.sk-toggleable__label-arrow:before {content: \"▸\";float: left;margin-right: 0.25em;color: #696969;}#sk-container-id-2 label.sk-toggleable__label-arrow:hover:before {color: black;}#sk-container-id-2 div.sk-estimator:hover label.sk-toggleable__label-arrow:before {color: black;}#sk-container-id-2 div.sk-toggleable__content {max-height: 0;max-width: 0;overflow: hidden;text-align: left;background-color: #f0f8ff;}#sk-container-id-2 div.sk-toggleable__content pre {margin: 0.2em;color: black;border-radius: 0.25em;background-color: #f0f8ff;}#sk-container-id-2 input.sk-toggleable__control:checked~div.sk-toggleable__content {max-height: 200px;max-width: 100%;overflow: auto;}#sk-container-id-2 input.sk-toggleable__control:checked~label.sk-toggleable__label-arrow:before {content: \"▾\";}#sk-container-id-2 div.sk-estimator input.sk-toggleable__control:checked~label.sk-toggleable__label {background-color: #d4ebff;}#sk-container-id-2 div.sk-label input.sk-toggleable__control:checked~label.sk-toggleable__label {background-color: #d4ebff;}#sk-container-id-2 input.sk-hidden--visually {border: 0;clip: rect(1px 1px 1px 1px);clip: rect(1px, 1px, 1px, 1px);height: 1px;margin: -1px;overflow: hidden;padding: 0;position: absolute;width: 1px;}#sk-container-id-2 div.sk-estimator {font-family: monospace;background-color: #f0f8ff;border: 1px dotted black;border-radius: 0.25em;box-sizing: border-box;margin-bottom: 0.5em;}#sk-container-id-2 div.sk-estimator:hover {background-color: #d4ebff;}#sk-container-id-2 div.sk-parallel-item::after {content: \"\";width: 100%;border-bottom: 1px solid gray;flex-grow: 1;}#sk-container-id-2 div.sk-label:hover label.sk-toggleable__label {background-color: #d4ebff;}#sk-container-id-2 div.sk-serial::before {content: \"\";position: absolute;border-left: 1px solid gray;box-sizing: border-box;top: 0;bottom: 0;left: 50%;z-index: 0;}#sk-container-id-2 div.sk-serial {display: flex;flex-direction: column;align-items: center;background-color: white;padding-right: 0.2em;padding-left: 0.2em;position: relative;}#sk-container-id-2 div.sk-item {position: relative;z-index: 1;}#sk-container-id-2 div.sk-parallel {display: flex;align-items: stretch;justify-content: center;background-color: white;position: relative;}#sk-container-id-2 div.sk-item::before, #sk-container-id-2 div.sk-parallel-item::before {content: \"\";position: absolute;border-left: 1px solid gray;box-sizing: border-box;top: 0;bottom: 0;left: 50%;z-index: -1;}#sk-container-id-2 div.sk-parallel-item {display: flex;flex-direction: column;z-index: 1;position: relative;background-color: white;}#sk-container-id-2 div.sk-parallel-item:first-child::after {align-self: flex-end;width: 50%;}#sk-container-id-2 div.sk-parallel-item:last-child::after {align-self: flex-start;width: 50%;}#sk-container-id-2 div.sk-parallel-item:only-child::after {width: 0;}#sk-container-id-2 div.sk-dashed-wrapped {border: 1px dashed gray;margin: 0 0.4em 0.5em 0.4em;box-sizing: border-box;padding-bottom: 0.4em;background-color: white;}#sk-container-id-2 div.sk-label label {font-family: monospace;font-weight: bold;display: inline-block;line-height: 1.2em;}#sk-container-id-2 div.sk-label-container {text-align: center;}#sk-container-id-2 div.sk-container {/* jupyter's `normalize.less` sets `[hidden] { display: none; }` but bootstrap.min.css set `[hidden] { display: none !important; }` so we also need the `!important` here to be able to override the default hidden behavior on the sphinx rendered scikit-learn.org. See: https://github.com/scikit-learn/scikit-learn/issues/21755 */display: inline-block !important;position: relative;}#sk-container-id-2 div.sk-text-repr-fallback {display: none;}</style><div id=\"sk-container-id-2\" class=\"sk-top-container\"><div class=\"sk-text-repr-fallback\"><pre>GridSearchCV(estimator=SVC(),\n",
       "             param_grid={&#x27;C&#x27;: [0.1, 1, 10, 100, 1000],\n",
       "                         &#x27;gamma&#x27;: [1, 0.1, 0.001, 0.0001]},\n",
       "             verbose=3)</pre><b>In a Jupyter environment, please rerun this cell to show the HTML representation or trust the notebook. <br />On GitHub, the HTML representation is unable to render, please try loading this page with nbviewer.org.</b></div><div class=\"sk-container\" hidden><div class=\"sk-item sk-dashed-wrapped\"><div class=\"sk-label-container\"><div class=\"sk-label sk-toggleable\"><input class=\"sk-toggleable__control sk-hidden--visually\" id=\"sk-estimator-id-2\" type=\"checkbox\" ><label for=\"sk-estimator-id-2\" class=\"sk-toggleable__label sk-toggleable__label-arrow\">GridSearchCV</label><div class=\"sk-toggleable__content\"><pre>GridSearchCV(estimator=SVC(),\n",
       "             param_grid={&#x27;C&#x27;: [0.1, 1, 10, 100, 1000],\n",
       "                         &#x27;gamma&#x27;: [1, 0.1, 0.001, 0.0001]},\n",
       "             verbose=3)</pre></div></div></div><div class=\"sk-parallel\"><div class=\"sk-parallel-item\"><div class=\"sk-item\"><div class=\"sk-label-container\"><div class=\"sk-label sk-toggleable\"><input class=\"sk-toggleable__control sk-hidden--visually\" id=\"sk-estimator-id-3\" type=\"checkbox\" ><label for=\"sk-estimator-id-3\" class=\"sk-toggleable__label sk-toggleable__label-arrow\">estimator: SVC</label><div class=\"sk-toggleable__content\"><pre>SVC()</pre></div></div></div><div class=\"sk-serial\"><div class=\"sk-item\"><div class=\"sk-estimator sk-toggleable\"><input class=\"sk-toggleable__control sk-hidden--visually\" id=\"sk-estimator-id-4\" type=\"checkbox\" ><label for=\"sk-estimator-id-4\" class=\"sk-toggleable__label sk-toggleable__label-arrow\">SVC</label><div class=\"sk-toggleable__content\"><pre>SVC()</pre></div></div></div></div></div></div></div></div></div></div>"
      ],
      "text/plain": [
       "GridSearchCV(estimator=SVC(),\n",
       "             param_grid={'C': [0.1, 1, 10, 100, 1000],\n",
       "                         'gamma': [1, 0.1, 0.001, 0.0001]},\n",
       "             verbose=3)"
      ]
     },
     "execution_count": 74,
     "metadata": {},
     "output_type": "execute_result"
    }
   ],
   "source": [
    "grid.fit(x_train, y_train)"
   ]
  },
  {
   "cell_type": "code",
   "execution_count": 76,
   "id": "c4a0f58e",
   "metadata": {},
   "outputs": [
    {
     "data": {
      "text/html": [
       "<style>#sk-container-id-3 {color: black;background-color: white;}#sk-container-id-3 pre{padding: 0;}#sk-container-id-3 div.sk-toggleable {background-color: white;}#sk-container-id-3 label.sk-toggleable__label {cursor: pointer;display: block;width: 100%;margin-bottom: 0;padding: 0.3em;box-sizing: border-box;text-align: center;}#sk-container-id-3 label.sk-toggleable__label-arrow:before {content: \"▸\";float: left;margin-right: 0.25em;color: #696969;}#sk-container-id-3 label.sk-toggleable__label-arrow:hover:before {color: black;}#sk-container-id-3 div.sk-estimator:hover label.sk-toggleable__label-arrow:before {color: black;}#sk-container-id-3 div.sk-toggleable__content {max-height: 0;max-width: 0;overflow: hidden;text-align: left;background-color: #f0f8ff;}#sk-container-id-3 div.sk-toggleable__content pre {margin: 0.2em;color: black;border-radius: 0.25em;background-color: #f0f8ff;}#sk-container-id-3 input.sk-toggleable__control:checked~div.sk-toggleable__content {max-height: 200px;max-width: 100%;overflow: auto;}#sk-container-id-3 input.sk-toggleable__control:checked~label.sk-toggleable__label-arrow:before {content: \"▾\";}#sk-container-id-3 div.sk-estimator input.sk-toggleable__control:checked~label.sk-toggleable__label {background-color: #d4ebff;}#sk-container-id-3 div.sk-label input.sk-toggleable__control:checked~label.sk-toggleable__label {background-color: #d4ebff;}#sk-container-id-3 input.sk-hidden--visually {border: 0;clip: rect(1px 1px 1px 1px);clip: rect(1px, 1px, 1px, 1px);height: 1px;margin: -1px;overflow: hidden;padding: 0;position: absolute;width: 1px;}#sk-container-id-3 div.sk-estimator {font-family: monospace;background-color: #f0f8ff;border: 1px dotted black;border-radius: 0.25em;box-sizing: border-box;margin-bottom: 0.5em;}#sk-container-id-3 div.sk-estimator:hover {background-color: #d4ebff;}#sk-container-id-3 div.sk-parallel-item::after {content: \"\";width: 100%;border-bottom: 1px solid gray;flex-grow: 1;}#sk-container-id-3 div.sk-label:hover label.sk-toggleable__label {background-color: #d4ebff;}#sk-container-id-3 div.sk-serial::before {content: \"\";position: absolute;border-left: 1px solid gray;box-sizing: border-box;top: 0;bottom: 0;left: 50%;z-index: 0;}#sk-container-id-3 div.sk-serial {display: flex;flex-direction: column;align-items: center;background-color: white;padding-right: 0.2em;padding-left: 0.2em;position: relative;}#sk-container-id-3 div.sk-item {position: relative;z-index: 1;}#sk-container-id-3 div.sk-parallel {display: flex;align-items: stretch;justify-content: center;background-color: white;position: relative;}#sk-container-id-3 div.sk-item::before, #sk-container-id-3 div.sk-parallel-item::before {content: \"\";position: absolute;border-left: 1px solid gray;box-sizing: border-box;top: 0;bottom: 0;left: 50%;z-index: -1;}#sk-container-id-3 div.sk-parallel-item {display: flex;flex-direction: column;z-index: 1;position: relative;background-color: white;}#sk-container-id-3 div.sk-parallel-item:first-child::after {align-self: flex-end;width: 50%;}#sk-container-id-3 div.sk-parallel-item:last-child::after {align-self: flex-start;width: 50%;}#sk-container-id-3 div.sk-parallel-item:only-child::after {width: 0;}#sk-container-id-3 div.sk-dashed-wrapped {border: 1px dashed gray;margin: 0 0.4em 0.5em 0.4em;box-sizing: border-box;padding-bottom: 0.4em;background-color: white;}#sk-container-id-3 div.sk-label label {font-family: monospace;font-weight: bold;display: inline-block;line-height: 1.2em;}#sk-container-id-3 div.sk-label-container {text-align: center;}#sk-container-id-3 div.sk-container {/* jupyter's `normalize.less` sets `[hidden] { display: none; }` but bootstrap.min.css set `[hidden] { display: none !important; }` so we also need the `!important` here to be able to override the default hidden behavior on the sphinx rendered scikit-learn.org. See: https://github.com/scikit-learn/scikit-learn/issues/21755 */display: inline-block !important;position: relative;}#sk-container-id-3 div.sk-text-repr-fallback {display: none;}</style><div id=\"sk-container-id-3\" class=\"sk-top-container\"><div class=\"sk-text-repr-fallback\"><pre>SVC(C=10, gamma=0.001)</pre><b>In a Jupyter environment, please rerun this cell to show the HTML representation or trust the notebook. <br />On GitHub, the HTML representation is unable to render, please try loading this page with nbviewer.org.</b></div><div class=\"sk-container\" hidden><div class=\"sk-item\"><div class=\"sk-estimator sk-toggleable\"><input class=\"sk-toggleable__control sk-hidden--visually\" id=\"sk-estimator-id-5\" type=\"checkbox\" checked><label for=\"sk-estimator-id-5\" class=\"sk-toggleable__label sk-toggleable__label-arrow\">SVC</label><div class=\"sk-toggleable__content\"><pre>SVC(C=10, gamma=0.001)</pre></div></div></div></div></div>"
      ],
      "text/plain": [
       "SVC(C=10, gamma=0.001)"
      ]
     },
     "execution_count": 76,
     "metadata": {},
     "output_type": "execute_result"
    }
   ],
   "source": [
    "grid.best_estimator_"
   ]
  },
  {
   "cell_type": "code",
   "execution_count": 77,
   "id": "7f097764",
   "metadata": {},
   "outputs": [],
   "source": [
    "predictions = grid.predict(x_test)"
   ]
  },
  {
   "cell_type": "code",
   "execution_count": 79,
   "id": "2c3b14d9",
   "metadata": {},
   "outputs": [
    {
     "name": "stdout",
     "output_type": "stream",
     "text": [
      "              precision    recall  f1-score   support\n",
      "\n",
      "           0       1.00      1.00      1.00        56\n",
      "           1       1.00      1.00      1.00        66\n",
      "           2       1.00      1.00      1.00        57\n",
      "           3       1.00      0.98      0.99        47\n",
      "           4       1.00      1.00      1.00        59\n",
      "           5       1.00      0.98      0.99        52\n",
      "           6       1.00      1.00      1.00        58\n",
      "           7       0.98      1.00      0.99        46\n",
      "           8       1.00      1.00      1.00        43\n",
      "           9       0.98      1.00      0.99        56\n",
      "\n",
      "    accuracy                           1.00       540\n",
      "   macro avg       1.00      1.00      1.00       540\n",
      "weighted avg       1.00      1.00      1.00       540\n",
      "\n"
     ]
    }
   ],
   "source": [
    "print (classification_report(y_test, prediction))"
   ]
  },
  {
   "cell_type": "code",
   "execution_count": 81,
   "id": "0f0ece6b",
   "metadata": {},
   "outputs": [],
   "source": [
    "import pickle\n",
    "pickle.dump(grid, open('model.pkl', 'wb'))"
   ]
  },
  {
   "cell_type": "code",
   "execution_count": null,
   "id": "1c2984de",
   "metadata": {},
   "outputs": [],
   "source": []
  }
 ],
 "metadata": {
  "kernelspec": {
   "display_name": "Python 3 (ipykernel)",
   "language": "python",
   "name": "python3"
  },
  "language_info": {
   "codemirror_mode": {
    "name": "ipython",
    "version": 3
   },
   "file_extension": ".py",
   "mimetype": "text/x-python",
   "name": "python",
   "nbconvert_exporter": "python",
   "pygments_lexer": "ipython3",
   "version": "3.10.6"
  }
 },
 "nbformat": 4,
 "nbformat_minor": 5
}
